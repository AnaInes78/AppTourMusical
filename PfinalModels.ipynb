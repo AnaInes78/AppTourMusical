{
  "nbformat": 4,
  "nbformat_minor": 0,
  "metadata": {
    "colab": {
      "provenance": [],
      "authorship_tag": "ABX9TyMAlTWHNmnYehg2SxG0VZLW",
      "include_colab_link": true
    },
    "kernelspec": {
      "name": "python3",
      "display_name": "Python 3"
    },
    "language_info": {
      "name": "python"
    }
  },
  "cells": [
    {
      "cell_type": "markdown",
      "metadata": {
        "id": "view-in-github",
        "colab_type": "text"
      },
      "source": [
        "<a href=\"https://colab.research.google.com/github/AnaInes78/AppTourMusical/blob/main/PfinalModels.ipynb\" target=\"_parent\"><img src=\"https://colab.research.google.com/assets/colab-badge.svg\" alt=\"Open In Colab\"/></a>"
      ]
    },
    {
      "cell_type": "code",
      "execution_count": 1,
      "metadata": {
        "id": "BzI8mkaPkF9Q"
      },
      "outputs": [],
      "source": [
        "class Event:\n",
        "    def __init__(self, id, nombre, artista, genero, id_ubicacion, hora_inicio, hora_fin, descripcion, imagen):\n",
        "        self.id = id\n",
        "        self.nombre = nombre\n",
        "        self.artista = artista\n",
        "        self.genero = genero\n",
        "        self.id_ubicacion = id_ubicacion\n",
        "        self.hora_inicio = hora_inicio\n",
        "        self.hora_fin = hora_fin\n",
        "        self.descripcion = descripcion\n",
        "        self.imagen = imagen\n",
        "\n",
        "    def to_dict(self):\n",
        "        return {\n",
        "            'id': self.id,\n",
        "            'nombre': self.nombre,\n",
        "            'artista': self.artista,\n",
        "            'genero': self.genero,\n",
        "            'id_ubicacion': self.id_ubicacion,\n",
        "            'hora_inicio': self.hora_inicio,\n",
        "            'hora_fin': self.hora_fin,\n",
        "            'descripcion': self.descripcion,\n",
        "            'imagen': self.imagen\n",
        "        }\n",
        "#importar datos\n",
        "import json\n",
        "\n",
        "def cargar_eventos_desde_json(ruta_archivo):\n",
        "    eventos = []\n",
        "    with open(ruta_archivo, 'r') as archivo:\n",
        "        datos = json.load(archivo)\n",
        "        for evento_data in datos:\n",
        "            evento = Event(**evento_data)\n",
        "            eventos.append(evento)\n",
        "    return eventos"
      ]
    },
    {
      "cell_type": "code",
      "source": [
        "#usuario\n",
        "class Usuario:\n",
        "    def __init__(self, id, nombre, apellido):\n",
        "        self.id = id\n",
        "        self.nombre = nombre\n",
        "        self.apellido = apellido\n",
        "        self.historial_eventos = []\n",
        "\n",
        "    def agregar_evento_historial(self, id_evento):\n",
        "        self.historial_eventos.append(id_evento)\n",
        "\n",
        "    def obtener_historial_eventos(self):\n",
        "        return self.historial_eventos\n",
        "\n",
        "def cargar_usuarios_desde_json(ruta_archivo):\n",
        "    usuarios = []\n",
        "    with open(ruta_archivo, 'r') as archivo:\n",
        "        datos = json.load(archivo)\n",
        "        for usuario_data in datos:\n",
        "            usuario = Usuario(**usuario_data)\n",
        "            usuarios.append(usuario)\n",
        "    return usuarios\n"
      ],
      "metadata": {
        "id": "FCF1b_bqlJ7-"
      },
      "execution_count": 3,
      "outputs": []
    },
    {
      "cell_type": "code",
      "source": [
        "#ubicacion\n",
        "class Ubicacion:\n",
        "    def __init__(self, id, nombre, direccion, coordenadas):\n",
        "        self.id = id\n",
        "        self.nombre = nombre\n",
        "        self.direccion = direccion\n",
        "        self.coordenadas = coordenadas\n",
        "\n",
        "    def mostrar_coordenadas(self):\n",
        "        latitud, longitud = self.coordenadas\n",
        "        return f\"Latitud: {latitud}, Longitud: {longitud}\"\n",
        "\n",
        "def cargar_ubicaciones_desde_json(ruta_archivo):\n",
        "    ubicaciones = []\n",
        "    with open(ruta_archivo, 'r') as archivo:\n",
        "        datos = json.load(archivo)\n",
        "        for ubicacion_data in datos:\n",
        "            ubicacion = Ubicacion(**ubicacion_data)\n",
        "            ubicaciones.append(ubicacion)\n",
        "    return ubicaciones"
      ],
      "metadata": {
        "id": "YWvUlRNtnRJi"
      },
      "execution_count": 4,
      "outputs": []
    },
    {
      "cell_type": "code",
      "source": [
        "class Review:\n",
        "    def __init__(self, id, id_evento, id_usuario, calificacion, comentario, animo):\n",
        "        self.id = id\n",
        "        self.id_evento = id_evento\n",
        "        self.id_usuario = id_usuario\n",
        "        self.calificacion = calificacion\n",
        "        self.comentario = comentario\n",
        "        self.animo = animo\n",
        "\n",
        "    def mostrar_review(self):\n",
        "        return f\"Evento ID: {self.id_evento}, Usuario ID: {self.id_usuario}, Calificación: {self.calificacion}, Comentario: {self.comentario}, Ánimo: {self.animo}\"\n",
        "\n",
        "def cargar_reviews_desde_json(ruta_archivo):\n",
        "    reviews = []\n",
        "    with open(ruta_archivo, 'r') as archivo:\n",
        "        datos = json.load(archivo)\n",
        "        for review_data in datos:\n",
        "            review = Review(**review_data)\n",
        "            reviews.append(review)\n",
        "    return reviews"
      ],
      "metadata": {
        "id": "A5D4OgQOoKsu"
      },
      "execution_count": null,
      "outputs": []
    }
  ]
}